{
 "cells": [
  {
   "cell_type": "code",
   "execution_count": 1,
   "metadata": {},
   "outputs": [
    {
     "data": {
      "text/plain": [
       "\"\\nPython is a OOPS language\\nIt's focus on the 4 pillars: Abstraction, Encapsulation, Polymorphism and Inheritance.\\nWhich focus on the objects-(data not on the flow)\\n\""
      ]
     },
     "execution_count": 1,
     "metadata": {},
     "output_type": "execute_result"
    }
   ],
   "source": [
    "'''\n",
    "Python is a OOPS language\n",
    "It's focus on the 4 pillars: Abstraction, Encapsulation, Polymorphism and Inheritance.\n",
    "Which focus on the objects-(data not on the flow)\n",
    "'''"
   ]
  },
  {
   "cell_type": "code",
   "execution_count": 7,
   "metadata": {},
   "outputs": [
    {
     "name": "stdout",
     "output_type": "stream",
     "text": [
      "Hello World\n",
      "Hello Rajesh\n"
     ]
    }
   ],
   "source": [
    "'''\n",
    "Class implementation with the creation of the object in this program\n",
    "\n",
    "\n",
    "'''\n",
    "\n",
    "class Mohit:\n",
    "    def __init__(self):\n",
    "        print(\"Hello World\")\n",
    "    def hello(self, msg=\"Mohit\"):\n",
    "        return \"Hello \"+msg\n",
    "\n",
    "if __name__ ==\"__main__\":\n",
    "    m = Mohit()\n",
    "    print(m.hello('Rajesh'))\n",
    "        "
   ]
  },
  {
   "cell_type": "code",
   "execution_count": 15,
   "metadata": {},
   "outputs": [
    {
     "name": "stdout",
     "output_type": "stream",
     "text": [
      "Parameterized constructor This is miracles\n",
      "end of the main object\n"
     ]
    }
   ],
   "source": [
    "'''\n",
    "__init__(self) ------> This is the default constructor which is invoked where the object is initilised\n",
    "__init__(self,name)--> This is the way of parameterized constructor works\n",
    "__del__(self)--------> This is nothing but destructor for the object end of the program\n",
    "    \n",
    "'''\n",
    "\n",
    "class Construction:\n",
    "    def __init__(self):\n",
    "        print('This is the default constructor')\n",
    "    def __init__(self,msg):\n",
    "        self.msg = msg\n",
    "        print(f'Parameterized constructor {self.msg}')\n",
    "    def __del__(self):\n",
    "        print(\"end of the main object\")\n",
    "\n",
    "if __name__ ==\"__main__\":\n",
    "    m = Construction('This is miracles')\n",
    "    \n",
    "        \n"
   ]
  },
  {
   "cell_type": "code",
   "execution_count": 23,
   "metadata": {},
   "outputs": [
    {
     "name": "stdout",
     "output_type": "stream",
     "text": [
      "Parameterized constructor This is miracles\n",
      "end of the main object\n",
      "This object has message This is miracles\n"
     ]
    }
   ],
   "source": [
    "'''\n",
    "If we want to represent something by default if we are return the object using __str__() similar to toString() \n",
    "function in the java\n",
    "'''\n",
    "class Construction2:\n",
    "    def __init__(self):\n",
    "        self.msg=''\n",
    "        print('This is the default constructor')\n",
    "    \n",
    "    def __init__(self,msg):\n",
    "        self.msg = msg\n",
    "        print(f'Parameterized constructor {self.msg}')\n",
    "    \n",
    "    def __str__(self):\n",
    "        return 'This object has message '+self.msg\n",
    "        \n",
    "    def __del__(self):\n",
    "        print(\"end of the main object\")\n",
    "\n",
    "if __name__ ==\"__main__\":\n",
    "    m = Construction2('This is miracles')\n",
    "    print(m)\n",
    "    \n",
    "    \n",
    "        \n",
    "\n"
   ]
  },
  {
   "cell_type": "code",
   "execution_count": null,
   "metadata": {},
   "outputs": [],
   "source": []
  }
 ],
 "metadata": {
  "kernelspec": {
   "display_name": "Python 3",
   "language": "python",
   "name": "python3"
  },
  "language_info": {
   "codemirror_mode": {
    "name": "ipython",
    "version": 3
   },
   "file_extension": ".py",
   "mimetype": "text/x-python",
   "name": "python",
   "nbconvert_exporter": "python",
   "pygments_lexer": "ipython3",
   "version": "3.8.5"
  }
 },
 "nbformat": 4,
 "nbformat_minor": 4
}
