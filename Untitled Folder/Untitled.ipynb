{
 "cells": [
  {
   "cell_type": "code",
   "execution_count": null,
   "metadata": {},
   "outputs": [],
   "source": [
    "\n",
    "'''\n",
    "Inheritance means a object can access/inherit the property of another class is called as inheritance.(2nd main pillar for the OOPS)\n",
    "(i) Single inheritance\n",
    "(ii) Multiple Inheritance\n",
    "(iii)Multilevel Inheritance\n",
    "(iv) Hierarchical Inheritance\n",
    " \n",
    "'''\n",
    "\n",
    "# simple inheritance\n"
   ]
  }
 ],
 "metadata": {
  "kernelspec": {
   "display_name": "Python 3",
   "language": "python",
   "name": "python3"
  },
  "language_info": {
   "codemirror_mode": {
    "name": "ipython",
    "version": 3
   },
   "file_extension": ".py",
   "mimetype": "text/x-python",
   "name": "python",
   "nbconvert_exporter": "python",
   "pygments_lexer": "ipython3",
   "version": "3.8.5"
  }
 },
 "nbformat": 4,
 "nbformat_minor": 4
}
