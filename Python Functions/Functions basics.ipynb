{
 "cells": [
  {
   "cell_type": "code",
   "execution_count": 5,
   "metadata": {},
   "outputs": [
    {
     "name": "stdout",
     "output_type": "stream",
     "text": [
      "hello world\n"
     ]
    }
   ],
   "source": [
    "'''\n",
    "--->Function is the block of code which has some statement to perform.\n",
    "--->With the help of def keyword\n",
    "--->we can include the no parameter or list of parameters\n",
    "--->simply using by name of the function to call\n",
    "\n",
    "'''\n",
    "def function():\n",
    "    print('hello world')\n",
    "    \n",
    "if __name__ == \"__main__\":\n",
    "    function()"
   ]
  },
  {
   "cell_type": "code",
   "execution_count": 7,
   "metadata": {},
   "outputs": [
    {
     "name": "stdout",
     "output_type": "stream",
     "text": [
      "Mohit\n",
      "Peshwani\n"
     ]
    }
   ],
   "source": [
    "'''\n",
    "parameters are the variables pass in the statement as list of data to work on functions sets of instruction \n",
    "\n",
    "'''\n",
    "def function1(name,surname):\n",
    "    print(name)\n",
    "    print(surname)\n",
    "\n",
    "if __name__ == \"__main__\":\n",
    "    function1('Mohit','Peshwani')"
   ]
  },
  {
   "cell_type": "code",
   "execution_count": 9,
   "metadata": {},
   "outputs": [
    {
     "name": "stdout",
     "output_type": "stream",
     "text": [
      "Actually passing the data type is  <class 'list'>\n",
      "<class 'list'>\n",
      "Messi\n",
      "Ronaldo\n",
      "Suraze\n",
      "Neymar\n",
      "Aguero\n",
      "Sergio Ramos\n",
      "Zlatan\n"
     ]
    }
   ],
   "source": [
    "'''\n",
    "We can pass the arguments by many ways \n",
    "\n",
    "(1) List/Iterables as a argument---> when we pass the list as a argument, it will consider it as a same of data to work on it\n",
    "\n",
    "'''\n",
    "def function2(list_of_goats):\n",
    "    print(type(list_of_goats))\n",
    "    for i in list_of_goats:\n",
    "        print(i)\n",
    "\n",
    "if __name__ == \"__main__\":\n",
    "    goats=[\"Messi\",\"Ronaldo\",\"Suraze\",\"Neymar\",\"Aguero\",\"Sergio Ramos\",\"Zlatan\"]\n",
    "    print(\"Actually passing the data type is \",type(goats))\n",
    "    function2(goats)"
   ]
  },
  {
   "cell_type": "code",
   "execution_count": 11,
   "metadata": {},
   "outputs": [
    {
     "name": "stdout",
     "output_type": "stream",
     "text": [
      "El classico\n",
      "real madrid  vs  barcelona\n"
     ]
    }
   ],
   "source": [
    "'''\n",
    "(2) key value arguments passing the data in the form of the key value pair to parameters which is important for function to\n",
    "consider to perform the action Also the sequancing doesn't matter\n",
    "\n",
    "'''\n",
    "def function3(fav,oppo):\n",
    "    print('El classico')\n",
    "    print(fav,' vs ',oppo)\n",
    "\n",
    "if __name__ == \"__main__\":\n",
    "    team='barcelona'\n",
    "    rival='real madrid'\n",
    "    function3(oppo=team,fav=rival)\n"
   ]
  },
  {
   "cell_type": "code",
   "execution_count": 13,
   "metadata": {},
   "outputs": [
    {
     "name": "stdout",
     "output_type": "stream",
     "text": [
      "<class 'str'>\n",
      "a\n",
      "None\n",
      "<class 'str'>\n",
      "e\n",
      "None\n",
      "<class 'str'>\n",
      "t\n",
      "None\n",
      "<class 'str'>\n",
      "e\n",
      "None\n",
      "<class 'str'>\n",
      "i\n",
      "None\n"
     ]
    }
   ],
   "source": [
    "'''\n",
    "(3)We can create a default function which will always return one common value if the parameters are not passed with the help of the key value args\n",
    "\n",
    "'''\n",
    "def default_function(team=\"Barcelona\"):\n",
    "    print(type(team))\n",
    "    print(team[1])\n",
    "\n",
    "if __name__ == \"__main__\":\n",
    "    print(default_function())\n",
    "    print(default_function('Real Madrid'))\n",
    "    print(default_function('Atletico Madird'))\n",
    "    print(default_function('Sevila'))\n",
    "    print(default_function('villreal'))"
   ]
  },
  {
   "cell_type": "code",
   "execution_count": 15,
   "metadata": {},
   "outputs": [
    {
     "name": "stdout",
     "output_type": "stream",
     "text": [
      "True\n"
     ]
    }
   ],
   "source": [
    "'''\n",
    "(4) *args vs **kargs(Mainly asked in the interviews)\n",
    "    If we dont know how many arguments will be there in the list we can use the element *args for arbitary arguments\n",
    "    in case for key value pair we can directly used the ** key value arbitary arguments.\n",
    "\n",
    "'''\n",
    "\n",
    "def argument_arbitary(*args):\n",
    "    for x in args:\n",
    "        if 'barcelona' in x:\n",
    "            return True\n",
    "\n",
    "if __name__ == \"__main__\":\n",
    "    print(argument_arbitary('Real Madrid','Atletico Madird','Sevila','barcelona'))"
   ]
  },
  {
   "cell_type": "code",
   "execution_count": 22,
   "metadata": {},
   "outputs": [
    {
     "name": "stdout",
     "output_type": "stream",
     "text": [
      "Real Madrid\n",
      "None\n"
     ]
    }
   ],
   "source": [
    "def key_value_argument_arbitary(**code):\n",
    "        print(code['team1'])\n",
    "\n",
    "\n",
    "if __name__ == \"__main__\":\n",
    "    print(key_value_argument_arbitary(team1='Real Madrid',team2='Atletico Madird',team3='Sevila',team4='barcelona'))"
   ]
  },
  {
   "cell_type": "code",
   "execution_count": 26,
   "metadata": {},
   "outputs": [
    {
     "name": "stdout",
     "output_type": "stream",
     "text": [
      "Enter the Number:10\n",
      "Square of the input number is 100\n"
     ]
    }
   ],
   "source": [
    "'''\n",
    "If the value we want to return the value from the function is the part of function\n",
    "\n",
    "'''\n",
    "\n",
    "def return_function(number):\n",
    "    return number*number\n",
    "\n",
    "if __name__ == \"__main__\":\n",
    "    number = int(input(\"Enter the Number:\"))\n",
    "    print(\"Square of the input number is\",return_function(number))\n"
   ]
  },
  {
   "cell_type": "code",
   "execution_count": 30,
   "metadata": {},
   "outputs": [
    {
     "name": "stdout",
     "output_type": "stream",
     "text": [
      "Enter the number 1:10\n",
      "Enter the number 2:20\n",
      "Addition of two number is  30\n",
      "Maxiumum from 2 no is  20\n",
      "Enter your namemohit\n",
      "Last character of your name is  t\n"
     ]
    }
   ],
   "source": [
    "'''\n",
    "Some basics functions we are going to create now\n",
    "1)create a function which will be adding the two number\n",
    "2)create a function to return max from 2 values\n",
    "3)find the last char of the string\n",
    "\n",
    "\n",
    "'''\n",
    "#1st function\n",
    "def add_two_number(a,b):\n",
    "    return a+b\n",
    "\n",
    "#2nd function\n",
    "def max_from_two_number(a,b):\n",
    "    if a>b:\n",
    "        return a\n",
    "    return b\n",
    "\n",
    "def last_char(name):\n",
    "    return name[-1]\n",
    "\n",
    "if __name__==\"__main__\":\n",
    "    a=int(input(\"Enter the number 1:\"))\n",
    "    b=int(input(\"Enter the number 2:\"))\n",
    "    print(\"Addition of two number is \",add_two_number(a,b))\n",
    "    print(\"Maxiumum from 2 no is \",max_from_two_number(a,b))\n",
    "    name=input(\"Enter your name\")\n",
    "    print(\"Last character of your name is \",last_char(name))\n"
   ]
  },
  {
   "cell_type": "code",
   "execution_count": null,
   "metadata": {},
   "outputs": [],
   "source": []
  }
 ],
 "metadata": {
  "kernelspec": {
   "display_name": "Python 3",
   "language": "python",
   "name": "python3"
  },
  "language_info": {
   "codemirror_mode": {
    "name": "ipython",
    "version": 3
   },
   "file_extension": ".py",
   "mimetype": "text/x-python",
   "name": "python",
   "nbconvert_exporter": "python",
   "pygments_lexer": "ipython3",
   "version": "3.8.5"
  }
 },
 "nbformat": 4,
 "nbformat_minor": 4
}
