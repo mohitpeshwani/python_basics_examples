{
 "cells": [
  {
   "cell_type": "code",
   "execution_count": 4,
   "metadata": {},
   "outputs": [
    {
     "name": "stdout",
     "output_type": "stream",
     "text": [
      "Enter the number22\n",
      "square of number: 484\n"
     ]
    }
   ],
   "source": [
    "'''\n",
    "Lambda function is a small anonymus function which will return the single expression value, as well as able to take the n numbers of argument.\n",
    "\n",
    "syntax:\n",
    "        lambda a,b: a*b\n",
    "    Here, before the (:)--> all are no of parameter\n",
    "          after the (:)---> expression to perform is written in this case we have two parameters doing the multiplication\n",
    "'''\n",
    "\n",
    "if __name__ == \"__main__\":\n",
    "    number = int(input(\"Enter the number\"))\n",
    "    result = lambda number : number*number\n",
    "    print('square of number:',result(number))\n"
   ]
  },
  {
   "cell_type": "code",
   "execution_count": 17,
   "metadata": {},
   "outputs": [
    {
     "name": "stdout",
     "output_type": "stream",
     "text": [
      "Enter the number:3\n",
      "[1, 4, 9, 16, 25, 36, 49, 64, 81, 100]\n"
     ]
    }
   ],
   "source": [
    "'''\n",
    "Map function are useful when we are trying to perform similar action in a \n",
    "single liner code execution for each value of list then we use the map function.\n",
    "map(function,iterable1,iterable2)\n",
    "\n",
    "'''\n",
    "square = [1,2,3,4,5,6,7,8,9,10]    #create a list of 1 to 10 with 1 step\n",
    "\n",
    "mul = lambda num: num * num\n",
    "\n",
    "if __name__ == \"__main__\":\n",
    "    number =int(input(\"Enter the number:\"))\n",
    "    answer = list(map(mul,square))\n",
    "    print(answer)\n"
   ]
  },
  {
   "cell_type": "code",
   "execution_count": 18,
   "metadata": {},
   "outputs": [
    {
     "name": "stdout",
     "output_type": "stream",
     "text": [
      "range(1, 11)\n",
      "range(11, 21)\n",
      "[12, 14, 16, 18, 20, 22, 24, 26, 28, 30]\n"
     ]
    }
   ],
   "source": [
    "'''\n",
    "Let's see two iterables operation with the help of map function\n",
    "\n",
    "\n",
    "'''\n",
    "list1=range(1,11,1)\n",
    "print(list1)\n",
    "list2=range(11,21,1)\n",
    "print(list2)\n",
    "\n",
    "if __name__ == \"__main__\":\n",
    "    adder = lambda x,y: x+y\n",
    "    answer = list(map(adder,list1,list2))\n",
    "    print(answer)"
   ]
  },
  {
   "cell_type": "code",
   "execution_count": 23,
   "metadata": {},
   "outputs": [
    {
     "name": "stdout",
     "output_type": "stream",
     "text": [
      "550\n"
     ]
    }
   ],
   "source": [
    "'''\n",
    "The reduce(fun,seq) function is used to apply a particular function passed in its argument to all of the list elements \n",
    "mentioned in the sequence passed along.This function is defined in “functools” module.\n",
    "\n",
    "\n",
    "\n",
    "'''\n",
    "import functools\n",
    "list1=[10,20,30,40,50,60,70,80,90,100]\n",
    "\n",
    "if __name__ == \"__main__\":\n",
    "    answer = functools.reduce(lambda x,y:x+y,list1)\n",
    "    print(answer)"
   ]
  },
  {
   "cell_type": "code",
   "execution_count": 28,
   "metadata": {},
   "outputs": [
    {
     "name": "stdout",
     "output_type": "stream",
     "text": [
      "[30, 60, 90]\n"
     ]
    }
   ],
   "source": [
    "'''\n",
    "filter function is use to create a sublist or iterable from existing iterable function\n",
    "filter is useful and return the filter object so we need to convert it everytime.\n",
    "'''\n",
    "list2 = [10,20,30,40,60,70,80,90,100]\n",
    "\n",
    "if __name__ == \"__main__\":\n",
    "    no_divisble_by_3 = filter(lambda x:  x%3==0,list2)\n",
    "    print(list(no_divisble_by_3))"
   ]
  },
  {
   "cell_type": "code",
   "execution_count": 31,
   "metadata": {},
   "outputs": [
    {
     "name": "stdout",
     "output_type": "stream",
     "text": [
      "{'mohit': 'mohit', 'peshwani': 'peshwani'}\n"
     ]
    }
   ],
   "source": [
    "'''\n",
    "Zip functions is used to join the different iterator together but we need to convert it into the specified data type using the list/dic like functions\n",
    "    syntax:-        \n",
    "            zip(iterable1,iterable2,iterable3,..iterable n)\n",
    "\n",
    "'''\n",
    "list3 = ['mohit','peshwani','rohit','peshwani']\n",
    "list4= ('mohit','peshwani')\n",
    "dictionary = dict(zip(list3,list4))\n",
    "print(dictionary)\n"
   ]
  },
  {
   "cell_type": "code",
   "execution_count": null,
   "metadata": {},
   "outputs": [],
   "source": []
  }
 ],
 "metadata": {
  "kernelspec": {
   "display_name": "Python 3",
   "language": "python",
   "name": "python3"
  },
  "language_info": {
   "codemirror_mode": {
    "name": "ipython",
    "version": 3
   },
   "file_extension": ".py",
   "mimetype": "text/x-python",
   "name": "python",
   "nbconvert_exporter": "python",
   "pygments_lexer": "ipython3",
   "version": "3.8.5"
  }
 },
 "nbformat": 4,
 "nbformat_minor": 4
}
