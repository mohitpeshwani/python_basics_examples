{
 "cells": [
  {
   "cell_type": "code",
   "execution_count": 1,
   "metadata": {},
   "outputs": [],
   "source": [
    "#creation of the list\n",
    "#1)Simplese way--------------------->lister=[] --->this is empty list\n",
    "#2)using the list() constructor---->lister=list()---> this is empty list"
   ]
  },
  {
   "cell_type": "code",
   "execution_count": 2,
   "metadata": {},
   "outputs": [],
   "source": [
    "names = []\n",
    "cities = list()"
   ]
  },
  {
   "cell_type": "code",
   "execution_count": 6,
   "metadata": {},
   "outputs": [],
   "source": [
    "'''\n",
    "We can add N no of elements using the following functions as follow\n",
    "1) name.append(\"Mohit\")---------->Append single element\n",
    "2) name.insert(1,\"Peshwani\")----->To insert the element at specific position \n",
    "3) name.extends()---------------->To insert an another objects multiple items at one shot\n",
    "'''\n",
    "\n",
    "names.append('messi')\n",
    "names.insert(1,'leonel')\n",
    "cities.extend(['rosario','barcelona','paris'])"
   ]
  },
  {
   "cell_type": "code",
   "execution_count": 7,
   "metadata": {},
   "outputs": [
    {
     "name": "stdout",
     "output_type": "stream",
     "text": [
      "messi\n"
     ]
    }
   ],
   "source": [
    "'''\n",
    "To extract the single element we can use index number similar to the string \n",
    "names[0] then it will return the element at 0th index\n",
    "'''\n",
    "print(names[0])"
   ]
  },
  {
   "cell_type": "code",
   "execution_count": 10,
   "metadata": {},
   "outputs": [
    {
     "name": "stdout",
     "output_type": "stream",
     "text": [
      "paris\n",
      "barcelona\n",
      "['messi', 'messi', 'leonel', 'leonel', 'leonel', 'messi']\n"
     ]
    }
   ],
   "source": [
    "'''\n",
    "We can even use negative indexing where user can directly access the last elements\n",
    "cities[-1] will return paris\n",
    "cities[-2] will return barcelona\n",
    "to reverse the string we can use names.reverse() but I prefer to use names[::-1] <---- this will do the same \n",
    "'''\n",
    "print(cities[-1])\n",
    "print(cities[-2])\n",
    "print(names[::-1])"
   ]
  },
  {
   "cell_type": "code",
   "execution_count": 12,
   "metadata": {},
   "outputs": [
    {
     "name": "stdout",
     "output_type": "stream",
     "text": [
      "None\n",
      "leonel\n"
     ]
    }
   ],
   "source": [
    "'''\n",
    "We can remove the specific element using the remove(value) function and it will always remove 1st occurance of value we pass\n",
    "names.remove('messi')\n",
    "\n",
    "to remove the last element in index directly use the .pop function \n",
    "names.pop()\n",
    "'''\n",
    "\n",
    "print(names.remove('messi'))\n",
    "print(names.pop())"
   ]
  },
  {
   "cell_type": "code",
   "execution_count": 17,
   "metadata": {},
   "outputs": [
    {
     "name": "stdout",
     "output_type": "stream",
     "text": [
      "Using the literable object directly\n",
      "\n",
      "10\n",
      "20\n",
      "30\n",
      "40\n",
      "50\n",
      "60\n",
      "70\n",
      "80\n",
      "90\n",
      "Using the iterable function over the range(len())\n",
      "\n",
      "10\n",
      "20\n",
      "30\n",
      "40\n",
      "50\n",
      "60\n",
      "70\n",
      "80\n",
      "90\n",
      "Using the while loop\n",
      "10\n",
      "20\n",
      "30\n",
      "40\n",
      "50\n",
      "60\n",
      "70\n",
      "80\n",
      "90\n"
     ]
    }
   ],
   "source": [
    "'''\n",
    "Looping throught the list is possible using \n",
    "1)for loop over the itereable list\n",
    "    list1=[10,20,40,50,60,70]\n",
    "    for x in list1:\n",
    "        print(x)\n",
    "\n",
    "\n",
    "2)for loop over the range(len(iterable list))\n",
    "    for x in range(len(nums)):\n",
    "    print(nums[x])\n",
    "    \n",
    "\n",
    "3)using the while loop we can perform the some conditions\n",
    "    while (condition): This will run untill condition become false  \n",
    "        statements\n",
    "        conditions\n",
    "\n",
    "'''\n",
    "# using the iterable list object directly\n",
    "nums=[10,20,30,40,50,60,70,80,90]\n",
    "print('Using the literable object directly\\n')\n",
    "for x in nums:\n",
    "    print(x)\n",
    "    \n",
    "    \n",
    "# using the index no of list in for loop\n",
    "print('Using the iterable function over the range(len())\\n')\n",
    "for i in range(len(nums)):\n",
    "    print(nums[i])\n",
    "\n",
    "\n",
    "# now I will access the element using for loop\n",
    "print('Using the while loop')\n",
    "index=0\n",
    "while(index<len(nums)):\n",
    "    print(nums[index])\n",
    "    index+=1\n",
    "    \n",
    "    \n"
   ]
  },
  {
   "cell_type": "code",
   "execution_count": 18,
   "metadata": {},
   "outputs": [],
   "source": [
    "'''\n",
    "To change the specific element we can use the index direclty\n",
    "***for single value************************\n",
    "1)nums[index]=value\n",
    "****from specific range to change**********\n",
    "2)nums[index:till incluseive]=[\"values\"]\n",
    "\n",
    "'''\n",
    "nums[0]=\"Messi\"\n",
    "nums[1:2]=[\"Ronaldo\",\"Neymar\"]"
   ]
  },
  {
   "cell_type": "code",
   "execution_count": 19,
   "metadata": {},
   "outputs": [
    {
     "name": "stdout",
     "output_type": "stream",
     "text": [
      "['Messi', 'Ronaldo', 'Neymar', 30, 40, 50, 60, 70, 80, 90]\n"
     ]
    }
   ],
   "source": [
    "print(nums)"
   ]
  },
  {
   "cell_type": "code",
   "execution_count": 22,
   "metadata": {},
   "outputs": [
    {
     "name": "stdout",
     "output_type": "stream",
     "text": [
      "True\n"
     ]
    }
   ],
   "source": [
    "'''\n",
    "To make a copy of a list we can use the copy method\n",
    "'''\n",
    "copied_list = nums.copy()\n",
    "if copied_list==nums:\n",
    "    print(True)"
   ]
  },
  {
   "cell_type": "code",
   "execution_count": 26,
   "metadata": {},
   "outputs": [
    {
     "name": "stdout",
     "output_type": "stream",
     "text": [
      "[30, 40, 50, 60, 70, 80, 90]\n"
     ]
    }
   ],
   "source": [
    "'''\n",
    "List comphrensive\n",
    "To make a new list on exisiting list values can be possible in a single liner answer using list comphrensive on any exisiting iterable(Set,list,dictionary)\n",
    "'''\n",
    "nums2=[x for x in nums if type(x) is int]\n",
    "print(nums2)"
   ]
  },
  {
   "cell_type": "code",
   "execution_count": null,
   "metadata": {},
   "outputs": [],
   "source": []
  }
 ],
 "metadata": {
  "kernelspec": {
   "display_name": "Python 3",
   "language": "python",
   "name": "python3"
  },
  "language_info": {
   "codemirror_mode": {
    "name": "ipython",
    "version": 3
   },
   "file_extension": ".py",
   "mimetype": "text/x-python",
   "name": "python",
   "nbconvert_exporter": "python",
   "pygments_lexer": "ipython3",
   "version": "3.8.5"
  }
 },
 "nbformat": 4,
 "nbformat_minor": 4
}
