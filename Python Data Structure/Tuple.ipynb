{
 "cells": [
  {
   "cell_type": "code",
   "execution_count": 1,
   "metadata": {},
   "outputs": [
    {
     "data": {
      "text/plain": [
       "'\\nTuple is immutable data structure in python \\nMaintain the insertion order, unchangable and heterogenus form of Data can be stored\\n\\n'"
      ]
     },
     "execution_count": 1,
     "metadata": {},
     "output_type": "execute_result"
    }
   ],
   "source": [
    "'''\n",
    "Tuple is immutable data structure in python \n",
    "Maintain the insertion order, unchangable and heterogenus form of Data can be stored\n",
    "\n",
    "'''"
   ]
  },
  {
   "cell_type": "code",
   "execution_count": 4,
   "metadata": {},
   "outputs": [
    {
     "name": "stdout",
     "output_type": "stream",
     "text": [
      "(10, 20, 30, 40, 50, 60, 70)\n",
      "<class 'tuple'>\n",
      "(102, 3, 4, 5, 6, 7, 3, 7)\n",
      "<class 'tuple'>\n"
     ]
    }
   ],
   "source": [
    "'''\n",
    "To create a tuple we can either \n",
    "1)assign () to a variable \n",
    "2)using the tuple() function to create a tuple\n",
    "'''\n",
    "a=(10,20,30,40,50,60,70)\n",
    "print(a)\n",
    "print(type(a))\n",
    "lister=[102,3,4,5,6,7,3,7]\n",
    "b=tuple(lister)\n",
    "print(b)\n",
    "print(type(b))\n"
   ]
  },
  {
   "cell_type": "code",
   "execution_count": 7,
   "metadata": {},
   "outputs": [
    {
     "name": "stdout",
     "output_type": "stream",
     "text": [
      "10\n"
     ]
    }
   ],
   "source": [
    "'''\n",
    "We can access the values using the index no as tuple maintain insertion order\n",
    "'''\n",
    "print(a[0])\n"
   ]
  },
  {
   "cell_type": "code",
   "execution_count": 10,
   "metadata": {},
   "outputs": [
    {
     "name": "stdout",
     "output_type": "stream",
     "text": [
      "(10, 20, 40, 50, 607)\n",
      "10\n",
      "20\n",
      "40\n"
     ]
    }
   ],
   "source": [
    "'''\n",
    "Packing and unpacking tuple is possible\n",
    "When we create a tuple, we normally assign values to it. This is called \"packing\" a tuple\n",
    "a=(10,20,40,50,607)\n",
    "\n",
    "unpacking means to assign all values to specific variable at once\n",
    "(a,b,c,d,e,f,g,h,i,j) = fruits\n",
    "'''\n",
    "\n",
    "a=(10,20,40,50,607)\n",
    "print(a)\n",
    "\n",
    "\n",
    "(a1,b,c,d,ej) = a\n",
    "print(a1)\n",
    "print(b)\n",
    "print(c)"
   ]
  },
  {
   "cell_type": "code",
   "execution_count": 11,
   "metadata": {},
   "outputs": [
    {
     "name": "stdout",
     "output_type": "stream",
     "text": [
      "<class 'int'>\n",
      "<class 'tuple'>\n"
     ]
    }
   ],
   "source": [
    "'''\n",
    "To perform the delection and insertion in the tuple we can't perform\n",
    "one way to do that convert it into the list perform and again convert them into the tuple\n",
    "\n",
    "'''\n",
    "\n",
    "'''\n",
    "Might interviewer can ask which one is the tuple\n",
    "'''\n",
    "a=(10)\n",
    "b=(10,)\n",
    "print(type(a))\n",
    "print(type(b))"
   ]
  },
  {
   "cell_type": "code",
   "execution_count": null,
   "metadata": {},
   "outputs": [],
   "source": []
  }
 ],
 "metadata": {
  "kernelspec": {
   "display_name": "Python 3",
   "language": "python",
   "name": "python3"
  },
  "language_info": {
   "codemirror_mode": {
    "name": "ipython",
    "version": 3
   },
   "file_extension": ".py",
   "mimetype": "text/x-python",
   "name": "python",
   "nbconvert_exporter": "python",
   "pygments_lexer": "ipython3",
   "version": "3.8.5"
  }
 },
 "nbformat": 4,
 "nbformat_minor": 4
}
