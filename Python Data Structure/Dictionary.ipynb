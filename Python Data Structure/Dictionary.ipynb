{
 "cells": [
  {
   "cell_type": "code",
   "execution_count": 1,
   "metadata": {},
   "outputs": [
    {
     "data": {
      "text/plain": [
       "dict"
      ]
     },
     "execution_count": 1,
     "metadata": {},
     "output_type": "execute_result"
    }
   ],
   "source": [
    "'''\n",
    "Dictionary is data structure which stores the object in key-value pair\n",
    "(before 3.7 version of python they are not maintain insertion order)\n",
    "Dictionary is a ordered,changeable and key's dont allow duplicate values.\n",
    "\n",
    "To create a directory we can use dict() function,\n",
    "we can make a empty directory directly whenever we {}<----consider as set by default\n",
    "'''\n",
    "\n",
    "maps=dict()\n",
    "type(maps)"
   ]
  },
  {
   "cell_type": "code",
   "execution_count": 2,
   "metadata": {},
   "outputs": [
    {
     "name": "stdout",
     "output_type": "stream",
     "text": [
      "{'country': 'India', 'population': '1.3 billion'}\n"
     ]
    }
   ],
   "source": [
    "'''\n",
    "To add the data to the dictionary we can use the \n",
    "1)dict[key]=objects/premitive \n",
    "We can assign anything to them using the above format\n",
    "2)To update the exiting one we use the update method to change the values through that key ,else key not present then it will be added\n",
    "    update many take input {key:value}\n",
    "'''\n",
    "maps['country']=\"India\"\n",
    "maps.update({\"population\":\"1.3 billion\"})\n",
    "print(maps)\n"
   ]
  },
  {
   "cell_type": "code",
   "execution_count": 3,
   "metadata": {},
   "outputs": [
    {
     "name": "stdout",
     "output_type": "stream",
     "text": [
      "India\n"
     ]
    }
   ],
   "source": [
    "'''\n",
    "To access the data from dictionary can be possible through keys directly in square bracket\n",
    "maps[key]<---- return the values by mapping it key to equivalent values assigned to it\n",
    "\n",
    "'''\n",
    "print(maps[\"country\"])"
   ]
  },
  {
   "cell_type": "code",
   "execution_count": 5,
   "metadata": {},
   "outputs": [
    {
     "name": "stdout",
     "output_type": "stream",
     "text": [
      "dict_values(['India', '1.3 billion'])\n",
      "dict_keys(['country', 'population'])\n",
      "dict_items([('country', 'India'), ('population', '1.3 billion')])\n"
     ]
    }
   ],
   "source": [
    "\"\"\"\n",
    "To get the all values we can simply use values()\n",
    "TO get all the keys constraints simply use keys()\n",
    "To get all the items in dictionary purpose use the items() function\n",
    "\"\"\"\n",
    "\n",
    "print(maps.values())\n",
    "print(maps.keys())\n",
    "print(maps.items())\n"
   ]
  },
  {
   "cell_type": "code",
   "execution_count": 7,
   "metadata": {},
   "outputs": [
    {
     "name": "stdout",
     "output_type": "stream",
     "text": [
      "('country', 'India')\n",
      "('population', '1.3 billion')\n",
      "country   India\n",
      "population   1.3 billion\n",
      "India\n",
      "1.3 billion\n"
     ]
    }
   ],
   "source": [
    "'''\n",
    "Looping in the dictionary is possible using the items(),values(),keys() basis in for loop\n",
    "\n",
    "'''\n",
    "#using the items to iterate throught the for loop\n",
    "\n",
    "for x in maps.items():\n",
    "    print(x)\n",
    "\n",
    "#using the keys to iterate throught the for loop\n",
    "for x in maps.keys():\n",
    "    print(x,\" \",maps[x])  \n",
    "\n",
    "\n",
    "#using the values to iterate throught the for loop\n",
    "for x in maps.values():\n",
    "    print(x)  "
   ]
  },
  {
   "cell_type": "code",
   "execution_count": 10,
   "metadata": {},
   "outputs": [
    {
     "name": "stdout",
     "output_type": "stream",
     "text": [
      "Available\n"
     ]
    }
   ],
   "source": [
    "'''\n",
    "TO find out specific value in the dictonaru\n",
    "\n",
    "\n",
    "'''\n",
    "\n",
    "if 'India' in maps.values():\n",
    "    print('Available')\n",
    "else:\n",
    "    print(\"Not available\")"
   ]
  },
  {
   "cell_type": "code",
   "execution_count": 11,
   "metadata": {},
   "outputs": [
    {
     "name": "stdout",
     "output_type": "stream",
     "text": [
      "{'apple': 1, 'banana': 2, 'cherry': 3}\n"
     ]
    }
   ],
   "source": [
    "'''\n",
    "We can convert two list into a single dictionary\n",
    "list1,list2 using the zip function\n",
    "\n",
    "'''\n",
    "\n",
    "keys = ['apple', 'banana', 'cherry']\n",
    "values = [1, 2, 3]\n",
    "\n",
    "my_dict = dict(zip(keys, values))\n",
    "print(my_dict)"
   ]
  },
  {
   "cell_type": "code",
   "execution_count": 12,
   "metadata": {},
   "outputs": [
    {
     "name": "stdout",
     "output_type": "stream",
     "text": [
      "{'apple': 1, 'banana': 2, 'cherry': 'Fruit'}\n"
     ]
    }
   ],
   "source": [
    "'''\n",
    "TO update the values we can use update function\n",
    "\n",
    "'''\n",
    "my_dict.update({'cherry':'Fruit'})\n",
    "print(my_dict)"
   ]
  },
  {
   "cell_type": "code",
   "execution_count": 17,
   "metadata": {},
   "outputs": [
    {
     "name": "stdout",
     "output_type": "stream",
     "text": [
      "{'teams': ['Barcelona', 'PSG'], 'pride': ['Higesht', 'Not considerable'], 'goals': [673, 95]}\n",
      "{'teams': ['Barcelona', 'PSG'], 'goals': [673, 95]}\n"
     ]
    },
    {
     "data": {
      "text/plain": [
       "('goals', [673, 95])"
      ]
     },
     "execution_count": 17,
     "metadata": {},
     "output_type": "execute_result"
    }
   ],
   "source": [
    "'''\n",
    "To remove the elements key from the dictionary is possible using \n",
    "(1)pop('key')\n",
    "(2)popitem()\n",
    "del popitem[key]<---------this is recommended by me\n",
    "'''\n",
    "dic = { \"teams\" : ['Barcelona','PSG'],\n",
    "       \"pride\" : [\"Higesht\",'Not considerable'],\n",
    "       \"goals\" : [673,95],\n",
    "}\n",
    "print(dic)\n",
    "dic.pop('pride')\n",
    "print(dic)\n",
    "dic.popitem()\n"
   ]
  },
  {
   "cell_type": "code",
   "execution_count": 6,
   "metadata": {},
   "outputs": [
    {
     "name": "stdout",
     "output_type": "stream",
     "text": [
      "orignal Copy {'teams': ['Barcelona', 'PSG'], 'pride': ['Higesht', 'Not considerable'], 'goals': [673, 95], 'Name': 'Messi'}\n",
      "Shallow Copy {'teams': ['Barcelona', 'PSG'], 'pride': ['Higesht', 'Not considerable'], 'goals': [673, 95], 'Name': 'Messi'}\n",
      "original copy: {'teams': ['Barcelona', 'PSG'], 'pride': ['Higesht', 'Not considerable'], 'goals': [673, 95], 'Name': 'Messi'}\n",
      "Deep copy: {'teams': ['Barcelona', 'PSG'], 'pride': ['Higesht', 'Not considerable'], 'goals': [673, 95], 'Name': 'Messi'}\n"
     ]
    }
   ],
   "source": [
    "'''\n",
    "Copy the dictionary\n",
    "1)shallow copy---> Creating a reference variable that can impact the original copy as no second copy created changes in \n",
    "shallow copy is simply visible to the stored place\n",
    "2)deep copy\n",
    "'''\n",
    "#shallow Copy\n",
    "dic = { \"teams\" : ['Barcelona','PSG'],\n",
    "       \"pride\" : [\"Higesht\",'Not considerable'],\n",
    "       \"goals\" : [673,95],\n",
    "}\n",
    "foot=dic\n",
    "foot[\"Name\"]=\"Messi\"  \n",
    "#changes is also visisble in the original one\n",
    "print(\"orignal Copy\",dic)\n",
    "print(\"Shallow Copy\",foot)\n",
    "\n",
    "\n",
    "#deep copy\n",
    "deepone=dic.copy()\n",
    "#changes made in deep copy creates actuall copy from the dictionary\n",
    "deepone[\"Surname\"]=\"Leonel\"\n",
    "print(\"original copy:\",dic)\n",
    "print(\"Deep copy:\",dic)\n"
   ]
  },
  {
   "cell_type": "code",
   "execution_count": 7,
   "metadata": {},
   "outputs": [
    {
     "name": "stdout",
     "output_type": "stream",
     "text": [
      "{}\n"
     ]
    }
   ],
   "source": [
    "\n",
    "'''\n",
    "To clear() functin help out to delete all the role without handling to the \n",
    "\n",
    "'''\n",
    "deepone.clear()\n",
    "print(deepone)"
   ]
  },
  {
   "cell_type": "code",
   "execution_count": null,
   "metadata": {},
   "outputs": [],
   "source": []
  }
 ],
 "metadata": {
  "kernelspec": {
   "display_name": "Python 3",
   "language": "python",
   "name": "python3"
  },
  "language_info": {
   "codemirror_mode": {
    "name": "ipython",
    "version": 3
   },
   "file_extension": ".py",
   "mimetype": "text/x-python",
   "name": "python",
   "nbconvert_exporter": "python",
   "pygments_lexer": "ipython3",
   "version": "3.8.5"
  }
 },
 "nbformat": 4,
 "nbformat_minor": 4
}
