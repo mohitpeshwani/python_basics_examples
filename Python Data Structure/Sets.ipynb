{
 "cells": [
  {
   "cell_type": "code",
   "execution_count": null,
   "metadata": {},
   "outputs": [],
   "source": [
    "'''\n",
    "Set is a data structure which is unordered,unindexed typed.\n",
    "Can hold unique values which means it doesn't stored values repetatively once it's already there in heap memory.\n",
    "'''"
   ]
  },
  {
   "cell_type": "code",
   "execution_count": 1,
   "metadata": {},
   "outputs": [
    {
     "name": "stdout",
     "output_type": "stream",
     "text": [
      "<class 'set'>\n",
      "<class 'set'>\n",
      "{40, 10, 50, 20, 30}\n"
     ]
    }
   ],
   "source": [
    "'''\n",
    "wiht the help of the set() function we can create the set object\n",
    "'''\n",
    "uniques = set()\n",
    "print(type(uniques))\n",
    "uniques2={10,20,30,40,50,50}\n",
    "print(type(uniques2))\n",
    "print(uniques2) #50 will print only once as it's twice added during the initilization"
   ]
  },
  {
   "cell_type": "code",
   "execution_count": 2,
   "metadata": {},
   "outputs": [
    {
     "name": "stdout",
     "output_type": "stream",
     "text": [
      "{'hayden', 'ronaldo', 'aakash', 'chandan', 'mohit', 'messi'}\n",
      "{'ronaldo', 'aakash', 10, 'Pessi', 'Marka', 'wens', 20, 30, 'hayden', 40, 44, 'Suu', 'friday', 'saturday', 'thursday', 'Mixture', 'Penaldo', 'chandan', 'mohit', 'sunday', 'tus', 'blender', 'Messi', 'mon', 'messi'}\n"
     ]
    }
   ],
   "source": [
    "'''\n",
    "To add the element in the set object \n",
    "1)add() function ----------> Adds single element at a time\n",
    "2)update() function--------> Adds the another set into current set or any other iterables(list,dict,tuples) \n",
    "'''\n",
    "#adding the element single element at a time\n",
    "names = {'mohit','aakash','chandan','hayden','messi'}\n",
    "names.add('ronaldo')\n",
    "print(names)\n",
    "\n",
    "#adding the iterable list and another set,dict to the name set using update\n",
    "duplicate_names = {'Marka','Suu','Pessi','Penaldo','Mixture','blender'}\n",
    "dictee = {\"Messi\":10}\n",
    "jersey_no = [10,20,30,40,44]\n",
    "tup = ('mon','tus','wens','thursday','friday','saturday','sunday')\n",
    "names.update(duplicate_names,dictee,jersey_no,tup)\n",
    "print(names)"
   ]
  },
  {
   "cell_type": "code",
   "execution_count": 5,
   "metadata": {},
   "outputs": [
    {
     "name": "stdout",
     "output_type": "stream",
     "text": [
      "True\n",
      "True\n",
      "False\n"
     ]
    }
   ],
   "source": [
    "'''\n",
    "To find out the wheather element is present within the set or not simply using in (memebership operator can be done within a single command)\n",
    "Returns the boolean value (True) if present in set object\n",
    "Returns the boolean value (False) if not present in set object\n",
    "'''\n",
    "print('chandan' in names)\n",
    "print('ChanDan'.lower() in names)\n",
    "print('Chandan' in names)"
   ]
  },
  {
   "cell_type": "code",
   "execution_count": 6,
   "metadata": {},
   "outputs": [
    {
     "name": "stdout",
     "output_type": "stream",
     "text": [
      "ronaldo\n",
      "aakash\n",
      "10\n",
      "Pessi\n",
      "Marka\n",
      "wens\n",
      "20\n",
      "30\n",
      "hayden\n",
      "40\n",
      "44\n",
      "Suu\n",
      "friday\n",
      "saturday\n",
      "thursday\n",
      "Mixture\n",
      "Penaldo\n",
      "chandan\n",
      "mohit\n",
      "sunday\n",
      "tus\n",
      "blender\n",
      "Messi\n",
      "mon\n",
      "messi\n"
     ]
    }
   ],
   "source": [
    "'''\n",
    "It's not possible to access the element in the set as there is no indexing like tuple/list/string to access specific element/character(in string)\n",
    "We can access using the some combinations and mainly to see element by element using for loop.\n",
    "\n",
    "'''\n",
    "for num in names:\n",
    "    print(num)"
   ]
  },
  {
   "cell_type": "code",
   "execution_count": 17,
   "metadata": {},
   "outputs": [
    {
     "name": "stdout",
     "output_type": "stream",
     "text": [
      "{70, 40, 10, 80, 50, 20, 60, 30}\n",
      "{70, 40, 10, 80, 50, 20, 60, 30}\n",
      "{10}\n",
      "{10}\n",
      "{40, 20, 30}\n",
      "{80, 50, 20, 70, 40, 60, 30}\n",
      "{80, 50, 20, 70, 40, 60, 30}\n"
     ]
    }
   ],
   "source": [
    "'''\n",
    "With the help of the set we can perform actions between two sets like union(),intersection() and difference() two sets\n",
    "\n",
    "'''\n",
    "# union returns all the elements as single entity from both the set\n",
    "set1={10,20,30,40}\n",
    "set2={50,60,70,80}\n",
    "print(set1 | set2) #1st way to perform the union  (|)\n",
    "print(set1.union(set2)) #2nd way to using the union funtion directly\n",
    "\n",
    "#intersection returns common element from botht the sets\n",
    "set2.add(10)\n",
    "print(set1&set2) # 1st way to perfrom the interesection (&)\n",
    "print(set1.intersection(set2)) #2nd way to using the intersection function directly\n",
    "\n",
    "#difference returns different values between two sets\n",
    "print(set1.difference(set2)) #using the function directly we can find the difference \n",
    "\n",
    "#symmetric difference which contains the elements which are either in set A or in set B but not in both\n",
    "print(set1.symmetric_difference(set2))\n",
    "print(set1^set2)"
   ]
  },
  {
   "cell_type": "code",
   "execution_count": 18,
   "metadata": {},
   "outputs": [
    {
     "name": "stdout",
     "output_type": "stream",
     "text": [
      "True\n",
      "False\n",
      "True\n",
      "True\n"
     ]
    }
   ],
   "source": [
    "'''\n",
    "To checkout wheater the set1 is subset/superset of another set2 is possible using 2 functions that returns True/False(Boolean)\n",
    "1)issubset\n",
    "2)issuperset\n",
    "Also to check the intersection wheather it's disjoint or not can be find out using the \n",
    "1)isdisjoint function\n",
    "\n",
    "'''\n",
    "set1={'m','o','h','i','t'}\n",
    "set2={'o','i'}\n",
    "set3={'d'}\n",
    "print(set1.issuperset(set2)) # checking wheather the all values is a part of set1 will return true\n",
    "print(set1.issubset(set2))  #this will return false as set1 not completely having it's values resides in set2\n",
    "print(set2.issubset(set1)) #returns true\n",
    "print(set1.isdisjoint(set3)) #return true as there is nothing common between them"
   ]
  },
  {
   "cell_type": "code",
   "execution_count": 22,
   "metadata": {},
   "outputs": [
    {
     "ename": "KeyError",
     "evalue": "'d'",
     "output_type": "error",
     "traceback": [
      "\u001b[1;31m---------------------------------------------------------------------------\u001b[0m",
      "\u001b[1;31mKeyError\u001b[0m                                  Traceback (most recent call last)",
      "\u001b[1;32m<ipython-input-22-55c5881d63f8>\u001b[0m in \u001b[0;36m<module>\u001b[1;34m\u001b[0m\n\u001b[0;32m      3\u001b[0m \u001b[1;33m\u001b[0m\u001b[0m\n\u001b[0;32m      4\u001b[0m '''\n\u001b[1;32m----> 5\u001b[1;33m \u001b[0mset3\u001b[0m\u001b[1;33m.\u001b[0m\u001b[0mremove\u001b[0m\u001b[1;33m(\u001b[0m\u001b[1;34m'd'\u001b[0m\u001b[1;33m)\u001b[0m\u001b[1;33m\u001b[0m\u001b[1;33m\u001b[0m\u001b[0m\n\u001b[0m",
      "\u001b[1;31mKeyError\u001b[0m: 'd'"
     ]
    }
   ],
   "source": [
    "'''\n",
    "We can delete element using remove() method and pop\n",
    "\n",
    "'''\n",
    "set3.discard('d')\n",
    "set2.remove('i')\n",
    "del set3"
   ]
  },
  {
   "cell_type": "code",
   "execution_count": null,
   "metadata": {},
   "outputs": [],
   "source": []
  }
 ],
 "metadata": {
  "kernelspec": {
   "display_name": "Python 3",
   "language": "python",
   "name": "python3"
  },
  "language_info": {
   "codemirror_mode": {
    "name": "ipython",
    "version": 3
   },
   "file_extension": ".py",
   "mimetype": "text/x-python",
   "name": "python",
   "nbconvert_exporter": "python",
   "pygments_lexer": "ipython3",
   "version": "3.8.5"
  }
 },
 "nbformat": 4,
 "nbformat_minor": 4
}
